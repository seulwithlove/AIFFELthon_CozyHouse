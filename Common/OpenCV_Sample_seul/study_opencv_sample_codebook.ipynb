{
 "cells": [
  {
   "cell_type": "markdown",
   "id": "4f840bce-248b-4c67-a2b5-5c0a9e3fae48",
   "metadata": {},
   "source": [
    "# OpenCV camera to server to flutter app\n",
    "\n",
    "- 선재님이 정리한 opencv_sample_codebook 리뷰\n",
    "    - 스마트폰 카메라 앱을 DAQ로 사용하기 위해 카메라 앱에 접근하는 코드를 정리\n",
    "**[DAQ]**\n",
    "- Data Acquisition\n",
    "- 데이터 수집 시스템을 의미하지만 '데이터수집기/데이터수집장치'라고 생각하면 됨\n",
    "\n",
    "**[참고]**\n",
    "- 파이썬 스크립트인 .py가 아인 .ipynb 파일에서는 esc를 눌렀을 때 창이 정상적으로 닫히지 않을 수 있다.\n",
    "\n",
    "**[조건]**\n",
    "1. DAQ로 사용할 스마트폰이 코드를 실행하는 컴퓨터(서버)와 같은 네트워크에 연결되어 있어야 함\n",
    "    - 컴퓨터에 웹캠이 설치되어 있는 경우, 스마트폰과 컴퓨터를 케이블로 연결\n"
   ]
  },
  {
   "cell_type": "code",
   "execution_count": 7,
   "id": "e72e3ee2-b7ce-471b-9824-f7de2d9c9512",
   "metadata": {},
   "outputs": [],
   "source": [
    "# `inet` 이 포함된 ip 주소 모두 확인\n",
    "# ifconfig | grep -Eo 'inet (addr:)?([0-9]*\\.){3}[0-9]*'"
   ]
  },
  {
   "cell_type": "code",
   "execution_count": 2,
   "id": "39668a2b-6f57-4832-9282-c7c7cfe64454",
   "metadata": {},
   "outputs": [],
   "source": [
    "import cv2"
   ]
  },
  {
   "cell_type": "markdown",
   "id": "b66ebb80-faeb-4b66-9509-0fb591281b3b",
   "metadata": {},
   "source": [
    "## 1. 아이폰 카메라 - 컴퓨터 연결\n",
    "- mac에서 어떤 카메라를 사용할지 index 확인하기"
   ]
  },
  {
   "cell_type": "code",
   "execution_count": 5,
   "id": "e1db7946-8123-431e-a073-f443512d4d18",
   "metadata": {},
   "outputs": [
    {
     "name": "stdout",
     "output_type": "stream",
     "text": [
      "Camera found at index: 0\n"
     ]
    },
    {
     "name": "stderr",
     "output_type": "stream",
     "text": [
      "OpenCV: out device of bound (0-1): -1\n",
      "OpenCV: camera failed to properly initialize!\n"
     ]
    }
   ],
   "source": [
    "# opencv에서 사용할 카메라 index 확인\n",
    "for camera_idx in range(-1, 3):\n",
    "    cap = cv2.VideoCapture(camera_idx)\n",
    "    if cap.isOpened():\n",
    "        print(f\"Camera found at index: {camera_idx}\")\n",
    "        break"
   ]
  },
  {
   "cell_type": "markdown",
   "id": "aa77edcc-f3f3-4d5a-8346-07e90d875c30",
   "metadata": {},
   "source": [
    "- 아이폰을 맥 카메라 리스트에 올려서 사용중인데 여기에서는 카메라리스트에 연동이 안됨\n",
    "- <img src=\"iphone_camera_listed_on_mac.PNG\" width=30%>"
   ]
  },
  {
   "cell_type": "code",
   "execution_count": 3,
   "id": "13ce8d68-fbeb-48dd-a60f-f88a27ac8eda",
   "metadata": {},
   "outputs": [
    {
     "name": "stderr",
     "output_type": "stream",
     "text": [
      "2024-03-11 14:42:09.895 python[44020:923518] WARNING: AVCaptureDeviceTypeExternal is deprecated for Continuity Cameras. Please use AVCaptureDeviceTypeContinuityCamera and add NSCameraUseContinuityCameraDeviceType to your Info.plist.\n",
      "OpenCV: out device of bound (0-1): -1\n",
      "OpenCV: camera failed to properly initialize!\n"
     ]
    },
    {
     "name": "stdout",
     "output_type": "stream",
     "text": [
      "Camera found at index: 0\n",
      "Camera found at index: 1\n",
      "Available camera indexes: [0, 1]\n"
     ]
    },
    {
     "name": "stderr",
     "output_type": "stream",
     "text": [
      "OpenCV: out device of bound (0-1): 2\n",
      "OpenCV: camera failed to properly initialize!\n",
      "OpenCV: out device of bound (0-1): 3\n",
      "OpenCV: camera failed to properly initialize!\n"
     ]
    }
   ],
   "source": [
    "# opencv에서 사용할 카메라 index 확인 - 리스트에 담기\u0003\n",
    "available_cameras = []\n",
    "for camera_idx in range(-1, 4):\n",
    "    cap = cv2.VideoCapture(camera_idx)\n",
    "    if cap.isOpened():\n",
    "        available_cameras.append(camera_idx)\n",
    "        print(f\"Camera found at index: {camera_idx}\")\n",
    "        cap.release()\n",
    "\n",
    "print(f\"Available camera indexes: {available_cameras}\")"
   ]
  },
  {
   "cell_type": "markdown",
   "id": "04b857f3-7100-47c1-a435-9a67991b2d06",
   "metadata": {},
   "source": [
    "- 문제 해결!\n",
    "    - 리스트에 담아서 출력하지 반복문을 모두 돌고, 두 개의 카메라를 사용할수 있는걸 확인\n",
    "- *해당 인덱스가 어떤 카메라인지 확인은 어떻게 하지?* "
   ]
  },
  {
   "cell_type": "code",
   "execution_count": 4,
   "id": "90d2c400-3228-43d4-8eb0-7dc54755b85e",
   "metadata": {},
   "outputs": [
    {
     "name": "stderr",
     "output_type": "stream",
     "text": [
      "OpenCV: out device of bound (0-1): -1\n",
      "OpenCV: camera failed to properly initialize!\n"
     ]
    },
    {
     "name": "stdout",
     "output_type": "stream",
     "text": [
      "Camera found at index: 0\n",
      "Camera 0 properties:\n",
      "- Resolution: 1280x720\n",
      "- Frame rate: 30 FPS\n",
      "Camera found at index: 1\n",
      "Camera 1 properties:\n",
      "- Resolution: 1920x1080\n",
      "- Frame rate: 30 FPS\n",
      "Available camera indexes: [0, 1]\n"
     ]
    },
    {
     "name": "stderr",
     "output_type": "stream",
     "text": [
      "OpenCV: out device of bound (0-1): 2\n",
      "OpenCV: camera failed to properly initialize!\n",
      "OpenCV: out device of bound (0-1): 3\n",
      "OpenCV: camera failed to properly initialize!\n"
     ]
    }
   ],
   "source": [
    "# import cv2\n",
    "\n",
    "# Initialize an empty list to store the indexes of available cameras\n",
    "available_cameras = []\n",
    "\n",
    "# Iterate over a range of camera indexes (-1 to 3)\n",
    "for camera_idx in range(-1, 4):\n",
    "    # Open the video capture device for the current camera index\n",
    "    cap = cv2.VideoCapture(camera_idx)\n",
    "    \n",
    "    # Check if the video capture device is opened successfully\n",
    "    if cap.isOpened():\n",
    "        # If opened successfully, add the camera index to the list of available cameras\n",
    "        available_cameras.append(camera_idx)\n",
    "        # Print a message indicating that a camera was found at the current index\n",
    "        print(f\"Camera found at index: {camera_idx}\")\n",
    "\n",
    "        # Retrieve camera properties (width, height, frame rate)\n",
    "        width = cap.get(cv2.CAP_PROP_FRAME_WIDTH)\n",
    "        height = cap.get(cv2.CAP_PROP_FRAME_HEIGHT)\n",
    "        fps = cap.get(cv2.CAP_PROP_FPS)\n",
    "\n",
    "        # Print camera properties\n",
    "        print(f\"Camera {camera_idx} properties:\")\n",
    "        print(f\"- Resolution: {int(width)}x{int(height)}\")\n",
    "        print(f\"- Frame rate: {int(fps)} FPS\")\n",
    "\n",
    "        # Release the video capture device\n",
    "        cap.release()\n",
    "\n",
    "# Print the list of available camera indexes\n",
    "print(f\"Available camera indexes: {available_cameras}\")\n"
   ]
  },
  {
   "cell_type": "code",
   "execution_count": null,
   "id": "56b67a5c-c3ed-48ed-9758-e163f493c236",
   "metadata": {},
   "outputs": [
    {
     "name": "stderr",
     "output_type": "stream",
     "text": [
      "2024-03-11 14:45:38.356 python[44076:927130] WARNING: AVCaptureDeviceTypeExternal is deprecated for Continuity Cameras. Please use AVCaptureDeviceTypeContinuityCamera and add NSCameraUseContinuityCameraDeviceType to your Info.plist.\n"
     ]
    }
   ],
   "source": [
    "# 웹캠 영상을 캡처하고 화면에 표시하는 함수 정의\n",
    "def show_video():\n",
    "    # VideoCapture 객체 생성 - 핸드폰 카메라 사용\n",
    "    cap = cv2.VideoCapture(1)\n",
    "\n",
    "    # 프레임 가로 크기 지정\n",
    "    cap.set(3, 960)\n",
    "    # 프레임 세로 크기 지정\n",
    "    cap.set(4, 640)\n",
    "\n",
    "    # 카메라로부터 프레임을 읽어오기\n",
    "    ret, frame = cap.read()\n",
    "    \n",
    "    if not ret:\n",
    "        # 프레임 읽기 실패\n",
    "        print(\"Error: Failed to capture frame\")\n",
    "    else:\n",
    "        # 종료될 때까지 계속해서 프레임 읽기\n",
    "        while True:\n",
    "            ret, frame = cap.read()\n",
    "            # video라는 이름의 창에 프레임 출력\n",
    "            cv2.imshow('video', frame)\n",
    "\n",
    "            # 입력되는 키를 k변수에 저장 - 1초마다 사용자 입력을 기다림\n",
    "            k = cv2.waitKey(1) & 0xff1\n",
    "            if k == 27: # 27은 esc키 번호\n",
    "                # esc 키가 눌리면 프레임 읽기 종료\n",
    "                break\n",
    "        \n",
    "        # VideoCapture 객체 소멸\n",
    "        cap.release()\n",
    "        # 창 닫기\n",
    "        cv2.destroyAllWindows()\n",
    "\n",
    "# show_video 함수 호출\n",
    "show_video()"
   ]
  },
  {
   "cell_type": "markdown",
   "id": "3fdfcc61-df38-4762-9403-53dc0d26af4a",
   "metadata": {},
   "source": [
    "## 2. 카메라로 촬영한 영상 저장하기\n",
    "OpenCV 라이브러리를 사용하여 스마트폰 카메라로 촬영되는 영상을 컴퓨터(서버)에 저장"
   ]
  },
  {
   "cell_type": "code",
   "execution_count": null,
   "id": "b0a89659-d008-4c6f-9ad3-c521ddf545dd",
   "metadata": {},
   "outputs": [],
   "source": [
    "\n",
    "import cv2  # openCV 라이브러리\n",
    "from datetime import datetime  # 파일명에 시간을 추가하기 위한 datetime 라이브러리\n",
    "import os  # 폴더 생성을 위해 추가\n",
    "\n",
    "\n",
    "# 웹캠 영상을 캡처하고 영상 데이터로 저장하는 함수 정의\n",
    "def write_video():\n",
    "    # VideoCapture 객체 생성 - 0: 맥북 카메라, 1: 핸드폰 카메라\n",
    "    cap = cv2.VideoCapture(1)\n",
    "\n",
    "    # 프레임 가로 크기 지정\n",
    "    cap.set(3, 960)\n",
    "    # 프레임 세로 크기 지정\n",
    "    cap.set(4, 480)\n",
    "\n",
    "    # 초당 프레임 수 설정\n",
    "    fps = 20\n",
    "    \n",
    "    # 저장되는 영상의 가로 크기를 프레임의 가로 크기로 지정\n",
    "    width = int(cap.get(3))\n",
    "    # 저장되는 영상의 세로 크기를 프레임의 세로 크기로 지정\n",
    "    height = int(cap.get(4))\n",
    "    # macOS MP4 코덱인 MP4V로 FourCC 코드 설정\n",
    "    fcc = cv2.VideoWriter_fourcc('m', 'p', '4', 'v')\n",
    "\n",
    "    # 현재 시간을 포맷에 맞게 문자열로 변환하여 파일명에 추가\n",
    "    current_time = datetime.now().strftime(\"%d_%H%M%S\")\n",
    "    # 파일명에 현재 시간 추가\n",
    "    file_name = f\"video_test_{current_time}.mp4\"\n",
    "\n",
    "    folder_path = \"./video\"\n",
    "\n",
    "    # 만약 폴더가 존재하지 않으면 폴더 생성\n",
    "    if not os.path.exists(folder_path):\n",
    "        os.makedirs(folder_path)\n",
    "\n",
    "    # VideoWriter 객체 생성 - 영상 저장 경로 설정\n",
    "    out = cv2.VideoWriter(os.path.join(folder_path, file_name), fcc, fps, (width, height))\n",
    "\n",
    "    # 카메라로부터 프레임 읽어오기\n",
    "    ret, frame = cap.read()\n",
    "    if not ret:\n",
    "        print(\"Error: Failed to capture frame\")\n",
    "    else:\n",
    "        while True:\n",
    "            ret, frame = cap.read()\n",
    "\n",
    "            # video_test라는 이름의 창에 프레임 출력\n",
    "            cv2.imshow('video_test', frame)\n",
    "            \n",
    "            # 파일 저장\n",
    "            out.write(frame)  \n",
    "            \n",
    "            # 입력되는 키를 k변수에 저장 - 1초마다 사용자 입력을 기다림\n",
    "            k = cv2.waitKey(int(1000/fps)) & 0xff # 27은 esc키 번호\n",
    "            if k == 27:\n",
    "                # esc 키가 눌리면 프레임 읽기 종료\n",
    "                break\n",
    "\n",
    "            \n",
    "        # VideoCapture 객체 소멸\n",
    "        cap.release()\n",
    "        # VideoWriter 객체 소멸\n",
    "        out.release()\n",
    "        # 창 닫기\n",
    "        cv2.destroyAllWindows()\n",
    "\n",
    "\n",
    "# write_video 함수 호출            \n",
    "write_video()"
   ]
  },
  {
   "cell_type": "code",
   "execution_count": null,
   "id": "3254b07c-482c-4bcb-b69b-de00f82ddb2d",
   "metadata": {},
   "outputs": [],
   "source": []
  }
 ],
 "metadata": {
  "kernelspec": {
   "display_name": "py3.12.1",
   "language": "python",
   "name": "aiffelthon"
  },
  "language_info": {
   "codemirror_mode": {
    "name": "ipython",
    "version": 3
   },
   "file_extension": ".py",
   "mimetype": "text/x-python",
   "name": "python",
   "nbconvert_exporter": "python",
   "pygments_lexer": "ipython3",
   "version": "3.12.1"
  }
 },
 "nbformat": 4,
 "nbformat_minor": 5
}
