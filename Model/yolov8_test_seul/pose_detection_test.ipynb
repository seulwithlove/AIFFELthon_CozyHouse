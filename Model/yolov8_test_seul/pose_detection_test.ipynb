{
 "cells": [
  {
   "cell_type": "markdown",
   "id": "5c421a76-f916-4537-a381-0280c3fa9f41",
   "metadata": {
    "deletable": true,
    "editable": true,
    "frozen": false
   },
   "source": [
    "# Pose estimation + Object Detection\n",
    "- 추가로 구현할 task 실험\n",
    "> 도어락&문고리를 포함하는 영역을 직사각형으로 설정하고, 사람의 손목 키포인트가 해당 영역 내에 동시에 존재하는 경우를 탐지\n",
    "    - 화면에서 문을 탐지  → 문에서 도어락&문고리 위치 설정 → 설정한 위치(영역) 내에 사람의 손목 키포인트가 동시에 존재하는지 확인"
   ]
  },
  {
   "cell_type": "markdown",
   "id": "0061083b-bf76-48ad-bd01-0968fe5ec213",
   "metadata": {},
   "source": [
    "## 1) pose estimation에서 keypoint 출력"
   ]
  },
  {
   "cell_type": "code",
   "execution_count": 2,
   "id": "bd547827-f27e-409f-b89e-eaac77167d9f",
   "metadata": {},
   "outputs": [],
   "source": [
    "# yolo v8 pose test\n",
    "\n",
    "from PIL import Image\n",
    "import glob\n",
    "import os\n",
    "from ultralytics import YOLO\n",
    "\n",
    "# Load a model\n",
    "detect_model = YOLO('yolov8n.pt')  # pretrained YOLOv8n model\n",
    "pose_model = YOLO('yolov8n-pose.pt')  # load an official pose model"
   ]
  },
  {
   "cell_type": "code",
   "execution_count": 3,
   "id": "516f2ed4-507c-4d14-9a33-4fe11d6c4f83",
   "metadata": {},
   "outputs": [
    {
     "data": {
      "text/plain": [
       "10"
      ]
     },
     "execution_count": 3,
     "metadata": {},
     "output_type": "execute_result"
    }
   ],
   "source": [
    "# Get the test images\n",
    "current_path = os.getcwd()\n",
    "img_path = current_path + '/pose_test_data'\n",
    "imgs = glob.glob(img_path + '/*.jpg')\n",
    "\n",
    "len(imgs)"
   ]
  },
  {
   "cell_type": "code",
   "execution_count": 5,
   "id": "f231b5a0-3fdd-4707-99ff-66b16785f478",
   "metadata": {},
   "outputs": [
    {
     "name": "stdout",
     "output_type": "stream",
     "text": [
      "\n",
      "0: 384x640 1 person, 43.8ms\n",
      "1: 384x640 1 person, 43.8ms\n",
      "2: 384x640 1 person, 43.8ms\n",
      "3: 384x640 1 person, 43.8ms\n",
      "4: 384x640 1 person, 43.8ms\n",
      "5: 384x640 1 person, 43.8ms\n",
      "6: 384x640 1 person, 43.8ms\n",
      "7: 384x640 1 person, 1 refrigerator, 43.8ms\n",
      "8: 384x640 1 person, 43.8ms\n",
      "9: 384x640 1 person, 43.8ms\n",
      "Speed: 1.4ms preprocess, 43.8ms inference, 0.6ms postprocess per image at shape (1, 3, 384, 640)\n"
     ]
    }
   ],
   "source": [
    "# Run batched inference on a list of images\n",
    "results = detect_model(imgs, stream=True)  # return a generator of Results objects\n",
    "detect_folder_path = \"./detect_result\"\n",
    "\n",
    "# 만약 폴더가 존재하지 않으면 폴더 생성\n",
    "if not os.path.exists(detect_folder_path):\n",
    "    os.makedirs(detect_folder_path)\n",
    "    \n",
    "# Process results generator\n",
    "for i, result in enumerate(results):\n",
    "    boxes = result.boxes  # Boxes object for bounding box outputs\n",
    "    masks = result.masks  # Masks object for segmentation masks outputs\n",
    "    keypoints = result.keypoints  # Keypoints object for pose outputs\n",
    "    probs = result.probs  # Probs object for classification outputs\n",
    "    # result.show()  # display to screen\n",
    "    result.save(filename=os.path.join(detect_folder_path, f'result_{i+1}.jpg'))  # save to disk"
   ]
  },
  {
   "cell_type": "code",
   "execution_count": 8,
   "id": "df7fad04-5149-4848-b645-b0302f571e90",
   "metadata": {},
   "outputs": [
    {
     "name": "stdout",
     "output_type": "stream",
     "text": [
      "\n",
      "0: 384x640 1 person, 43.0ms\n",
      "1: 384x640 1 person, 43.0ms\n",
      "2: 384x640 1 person, 43.0ms\n",
      "3: 384x640 1 person, 43.0ms\n",
      "4: 384x640 1 person, 43.0ms\n",
      "5: 384x640 1 person, 43.0ms\n",
      "6: 384x640 1 person, 43.0ms\n",
      "7: 384x640 1 person, 43.0ms\n",
      "8: 384x640 1 person, 43.0ms\n",
      "9: 384x640 1 person, 43.0ms\n",
      "Speed: 1.4ms preprocess, 43.0ms inference, 0.5ms postprocess per image at shape (1, 3, 384, 640)\n"
     ]
    }
   ],
   "source": [
    "pose_folder_path = \"./pose_result\"\n",
    "\n",
    "# 만약 폴더가 존재하지 않으면 폴더 생성\n",
    "if not os.path.exists(pose_folder_path):\n",
    "    os.makedirs(pose_folder_path)\n",
    "\n",
    "# Run batched inference on a list of images\n",
    "pose_results = pose_model(imgs, stream=True)  # return a generator of Results objects\n",
    "\n",
    "# Process results generator\n",
    "for i, pose_result in enumerate(pose_results):\n",
    "    boxes = pose_result.boxes  # Boxes object for bounding box outputs\n",
    "    masks = pose_result.masks  # Masks object for segmentation masks outputs\n",
    "    keypoints = pose_result.keypoints  # Keypoints object for pose outputs\n",
    "    probs = pose_result.probs  # Probs object for classification outputs\n",
    "    # pose_result.show()  # display to screen\n",
    "    pose_result.save(filename=os.path.join(pose_folder_path, f'pose_result_{i+1}.jpg'))  # save to disk"
   ]
  },
  {
   "cell_type": "markdown",
   "id": "a2e7142a-8655-4c9e-89d2-d6036de5bf71",
   "metadata": {},
   "source": [
    "- yolov8 pose 모델에는 keypoint name(x, y coordinates 좌표)값이 없음\n",
    "- 아래 방식으로 만들기([참고](https://github.com/Alimustoofaa/YoloV8-Pose-Keypoint-Classification))"
   ]
  },
  {
   "cell_type": "code",
   "execution_count": 4,
   "id": "e59fd6d7-f8c4-41b2-9698-cf452ff0c370",
   "metadata": {},
   "outputs": [
    {
     "name": "stdout",
     "output_type": "stream",
     "text": [
      "\n",
      "image 1/1 /Users/seullee/Documents/STUDY-AI/AIFFEL/Aiffelthon/R_PJ_AIFFELthon/Model/yolov8_test_seul/pose_test_data/C021_A18_SY17_P07_S06_01DBS_mp4-1802.jpg: 384x640 1 person, 69.3ms\n",
      "Speed: 7.8ms preprocess, 69.3ms inference, 8.7ms postprocess per image at shape (1, 3, 384, 640)\n"
     ]
    },
    {
     "data": {
      "text/plain": [
       "array([[          0,           0],\n",
       "       [          0,           0],\n",
       "       [          0,           0],\n",
       "       [          0,           0],\n",
       "       [     0.5003,     0.19052],\n",
       "       [     0.4539,     0.24022],\n",
       "       [    0.50076,     0.25598],\n",
       "       [    0.45181,     0.32755],\n",
       "       [    0.52087,     0.34148],\n",
       "       [    0.49299,     0.35219],\n",
       "       [    0.56142,     0.34118],\n",
       "       [    0.45927,     0.40111],\n",
       "       [    0.49081,     0.40781],\n",
       "       [    0.46173,     0.50312],\n",
       "       [    0.49475,     0.51437],\n",
       "       [    0.45363,     0.60907],\n",
       "       [    0.48957,     0.63388]], dtype=float32)"
      ]
     },
     "execution_count": 4,
     "metadata": {},
     "output_type": "execute_result"
    }
   ],
   "source": [
    "# Extract keypoint\n",
    "# 도어락을 누르는 포즈의 손목 키포인트를 잡기 좋은 이미지 선택\n",
    "\n",
    "# Run batched inference on a list of images\n",
    "pose_results = pose_model('./pose_test_data/C021_A18_SY17_P07_S06_01DBS_mp4-1802.jpg')\n",
    "\n",
    "# Process results generator\n",
    "for pose_result in pose_results:\n",
    "    boxes = pose_result.boxes  # Boxes object for bounding box outputs\n",
    "    masks = pose_result.masks  # Masks object for segmentation masks outputs\n",
    "    keypoints = pose_result.keypoints  # Keypoints object for pose outputs\n",
    "    probs = pose_result.probs  # Probs object for classification outputs\n",
    "    # pose_result.show()  # display to screen\n",
    "    # pose_result.save(filename='pose_result.jpg')  # save to disk\n",
    "    \n",
    "result_keypoint = keypoints.xyn.cpu().numpy()[0]\n",
    "result_keypoint"
   ]
  },
  {
   "cell_type": "code",
   "execution_count": 15,
   "id": "861cb1e5-b3e6-4e89-a105-7d501f80553a",
   "metadata": {},
   "outputs": [],
   "source": [
    "from pydantic import BaseModel\n",
    "\n",
    "class GetKeypoint(BaseModel):\n",
    "    NOSE:           int = 0\n",
    "    LEFT_EYE:       int = 1\n",
    "    RIGHT_EYE:      int = 2\n",
    "    LEFT_EAR:       int = 3\n",
    "    RIGHT_EAR:      int = 4\n",
    "    LEFT_SHOULDER:  int = 5\n",
    "    RIGHT_SHOULDER: int = 6\n",
    "    LEFT_ELBOW:     int = 7\n",
    "    RIGHT_ELBOW:    int = 8\n",
    "    LEFT_WRIST:     int = 9\n",
    "    RIGHT_WRIST:    int = 10\n",
    "    LEFT_HIP:       int = 11\n",
    "    RIGHT_HIP:      int = 12\n",
    "    LEFT_KNEE:      int = 13\n",
    "    RIGHT_KNEE:     int = 14\n",
    "    LEFT_ANKLE:     int = 15\n",
    "    RIGHT_ANKLE:    int = 16\n",
    "\n",
    "# example \n",
    "get_keypoint = GetKeypoint()\n",
    "right_wrist_x, right_wrist_y = result_keypoint[get_keypoint.RIGHT_WRIST]"
   ]
  },
  {
   "cell_type": "code",
   "execution_count": 16,
   "id": "60b84a6b-321e-485b-8d7f-c5cfed0c9bcc",
   "metadata": {},
   "outputs": [
    {
     "data": {
      "text/plain": [
       "(0.5614185, 0.34118462)"
      ]
     },
     "execution_count": 16,
     "metadata": {},
     "output_type": "execute_result"
    }
   ],
   "source": [
    "right_wrist_x, right_wrist_y"
   ]
  },
  {
   "cell_type": "markdown",
   "id": "6795654d-fd6d-4ff1-a9ff-341e5da7ef5a",
   "metadata": {},
   "source": [
    "- 이미지에 해당 좌표가 맞게 잡혔는지 확인 ([openCV docs](https://docs.opencv.org/4.x/dc/da5/tutorial_py_drawing_functions.html), [블로그](https://inhovation97.tistory.com/52))\n",
    "> cv2.circle( img, center, radius, color[, thickness, lineType]) - 원 그리기<br>\n",
    "> 입력 :\n",
    "> - img - 그림 그릴 대상 이미지(numpy배열)<br>\n",
    "> - points - 원점 좌표 (x, y)<br>\n",
    "> - radius - 원의 반지름<br>\n",
    "> - color - 색상, (B,G,R), 0~255 <- 주의할 것.<br>\n",
    "> - thickness - 선 두께 (-1: 채우기)<br>\n",
    "> - lineType\n",
    ">   - 선 타입 cv2.line() 함수와 동일함<br>\n",
    "                      cv2.LINE_4 - 연결 선 알고리즘<br>\n",
    "                      cv2.LINE_8 - 연결 선 알고리즘<br>\n",
    "                      cv2.LINE_AA - 안티 앨리어싱( 계단 현상 없는 선 )<br>"
   ]
  },
  {
   "cell_type": "code",
   "execution_count": 20,
   "id": "50fb4355-90d0-4e65-a5fd-1d036ce8f252",
   "metadata": {},
   "outputs": [
    {
     "data": {
      "text/plain": [
       "(1080, 1920)"
      ]
     },
     "execution_count": 20,
     "metadata": {},
     "output_type": "execute_result"
    }
   ],
   "source": [
    "import cv2\n",
    "\n",
    "image_path = './pose_test_data/C021_A18_SY17_P07_S06_01DBS_mp4-1802.jpg'\n",
    "image = cv2.imread(image_path)\n",
    "\n",
    "# get image dimensions\n",
    "height, width, _ = image.shape\n",
    "height, width"
   ]
  },
  {
   "cell_type": "markdown",
   "id": "0437bf19-e17d-4f8e-8364-701a455fdb16",
   "metadata": {},
   "source": [
    "- 실제 이미지 사이즈와 모델에 입력된 이미지 사이즈가 다름"
   ]
  },
  {
   "cell_type": "code",
   "execution_count": 18,
   "id": "ba9b93de-e068-4ce7-b067-694926ad7c41",
   "metadata": {},
   "outputs": [
    {
     "data": {
      "text/plain": [
       "(384, 640)"
      ]
     },
     "execution_count": 18,
     "metadata": {},
     "output_type": "execute_result"
    }
   ],
   "source": [
    "height, width = 384, 640\n",
    "height, width"
   ]
  },
  {
   "cell_type": "code",
   "execution_count": 26,
   "id": "36ba2384-58b7-4da9-ba65-c4cf4e8bae68",
   "metadata": {},
   "outputs": [
    {
     "data": {
      "text/plain": [
       "True"
      ]
     },
     "execution_count": 26,
     "metadata": {},
     "output_type": "execute_result"
    }
   ],
   "source": [
    "# Convert float coordinates to integer coordinates\n",
    "right_wrist_x_int = int(right_wrist_x * width)\n",
    "right_wrist_y_int = int(right_wrist_y * height)\n",
    "\n",
    "# Draw circles on the image at the wrist coordinates\n",
    "cv2.circle(image, (right_wrist_x_int, right_wrist_y_int), 5, (0, 255, 0), -1)  # Green circle for right wrist\n",
    "\n",
    "cv2.imwrite('./marked_image.jpg', image)"
   ]
  },
  {
   "attachments": {},
   "cell_type": "markdown",
   "id": "5e5f7316-b016-4335-89c2-4768bf2db55f",
   "metadata": {},
   "source": [
    "- <img src='marked_image.jpg' width=50% height=50%>\n",
    "- 하나는 정확하게 맞는데 다른 하나는 왜 생기는거지?"
   ]
  }
 ],
 "metadata": {
  "kernelspec": {
   "display_name": "Python 3 (ipykernel)",
   "language": "python",
   "name": "python3"
  },
  "language_info": {
   "codemirror_mode": {
    "name": "ipython",
    "version": 3
   },
   "file_extension": ".py",
   "mimetype": "text/x-python",
   "name": "python",
   "nbconvert_exporter": "python",
   "pygments_lexer": "ipython3",
   "version": "3.11.1"
  }
 },
 "nbformat": 4,
 "nbformat_minor": 5
}
